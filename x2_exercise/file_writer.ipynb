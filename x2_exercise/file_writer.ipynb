{
 "cells": [
  {
   "cell_type": "markdown",
   "metadata": {},
   "source": [
    "This python notebook makes r_.txt and b files.\n",
    "\n",
    "Sherry Wong\n",
    "bwong24@wisc.edu"
   ]
  },
  {
   "cell_type": "code",
   "execution_count": 1,
   "metadata": {},
   "outputs": [],
   "source": [
    "import numpy as np\n",
    "min = 1\n",
    "max = 102"
   ]
  },
  {
   "cell_type": "markdown",
   "metadata": {},
   "source": [
    "Write a r_.txt file of the specified range. (Including min & exclusing max)"
   ]
  },
  {
   "cell_type": "code",
   "execution_count": 2,
   "metadata": {},
   "outputs": [],
   "source": [
    "##min = 1\n",
    "##max = 102\n",
    "f = open(\"r_.txt\", \"w\")\n",
    "for i in range(min, max):\n",
    "    #match decimal places in original files\n",
    "    f.write(\"{:.18e}\".format(i) + \"\\n\")\n",
    "f.close()"
   ]
  },
  {
   "cell_type": "code",
   "execution_count": null,
   "metadata": {},
   "outputs": [],
   "source": [
    "#18 decimal places\n",
    "n = 1.0\n",
    "print(\"{:.18e}\".format(n))"
   ]
  },
  {
   "cell_type": "markdown",
   "metadata": {},
   "source": [
    "Write a b file of just 1s and 0s.\n",
    "\n",
    "*Specify the indices you want\n",
    "*MAKE SURE MIN AND MAX MATCH THE RANGE OF r_txt"
   ]
  },
  {
   "cell_type": "code",
   "execution_count": 4,
   "metadata": {},
   "outputs": [],
   "source": [
    "#indices = [1, 50, 101]\n",
    "indices = np.linspace(1, 101, 101).tolist()\n",
    "#THESE SHOULD BE THE SAME AS ABOVE\n",
    "#min = 1\n",
    "#max = 50002\n",
    "f = open(\"BC.txt\", \"w\")\n",
    "for i in range(min, max):\n",
    "    #match decimal places in original files\n",
    "    if(i in indices):\n",
    "        f.write(\"{:.18e}\".format(1) + \"\\n\")\n",
    "    else:\n",
    "        f.write(\"{:.18e}\".format(0) + \"\\n\")\n",
    "f.close()"
   ]
  },
  {
   "cell_type": "code",
   "execution_count": 3,
   "metadata": {},
   "outputs": [],
   "source": [
    "#THESE SHOULD BE THE SAME AS ABOVE\n",
    "#min = 1\n",
    "#max = 50002\n",
    "f = open(\"ydata.txt\", \"w\")\n",
    "for i in range(min, max):\n",
    "    #match decimal places in original files\n",
    "    f.write(\"{:.18e}\".format(i**2) + \"\\n\")\n",
    "f.close()"
   ]
  },
  {
   "cell_type": "code",
   "execution_count": null,
   "metadata": {},
   "outputs": [],
   "source": []
  }
 ],
 "metadata": {
  "kernelspec": {
   "display_name": "Python 3",
   "language": "python",
   "name": "python3"
  },
  "language_info": {
   "codemirror_mode": {
    "name": "ipython",
    "version": 3
   },
   "file_extension": ".py",
   "mimetype": "text/x-python",
   "name": "python",
   "nbconvert_exporter": "python",
   "pygments_lexer": "ipython3",
   "version": "3.7.3"
  }
 },
 "nbformat": 4,
 "nbformat_minor": 5
}
